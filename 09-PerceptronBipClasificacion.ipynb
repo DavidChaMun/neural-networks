{
 "cells": [
  {
   "cell_type": "markdown",
   "metadata": {},
   "source": [
    "Perceptrón Bipolar\n",
    "===\n",
    "\n",
    "**Juan David Velásquez Henao**  \n",
    "jdvelasq@unal.edu.co   \n",
    "Universidad Nacional de Colombia, Sede Medellín  \n",
    "Facultad de Minas  \n",
    "Medellín, Colombia\n",
    "\n",
    "---\n",
    "\n",
    "Haga click [aquí](https://github.com/jdvelasq/deep-neural-nets/tree/master/) para acceder al repositorio online.\n",
    "\n",
    "Haga click [aquí](http://nbviewer.jupyter.org/github/jdvelasq/deep-neural-nets/tree/master/) para explorar el repositorio usando `nbviewer`. "
   ]
  },
  {
   "cell_type": "markdown",
   "metadata": {},
   "source": [
    "---"
   ]
  },
  {
   "cell_type": "markdown",
   "metadata": {},
   "source": [
    "# Definición del problema"
   ]
  },
  {
   "cell_type": "markdown",
   "metadata": {},
   "source": [
    "Se tiene una muestra de 15 ejemplos para los cuales se han medido sus características $x_1$ y $x_2$ y su respectiva clase.\n",
    "\n",
    "    #     x1      x2   Clase\n",
    "    ------------------------\n",
    "     1  10.67   14.70    A\n",
    "     2   9.74   13.79    A \n",
    "     3  10.23   14.30    A\n",
    "     4  11.17   15.53    A\n",
    "     5  10.41   15.08    A\n",
    "     6  10.87    6.81    A\n",
    "     7  11.95    6.05    B\n",
    "     8  12.77    7.97    B\n",
    "     9  14.42    9.25    B\n",
    "    10  13.25    8.03    B\n",
    "    11  13.27   13.92    C\n",
    "    12  14.40   16.58    C\n",
    "    13  14.50   17.39    C\n",
    "    14  14.20   16.70    C\n",
    "    15  14.62   17.22    C\n",
    "\n",
    "Se desea determinar a que clase pertenece un nuevo punto con $x_1$ = 10.18 y $x_2$ = 6.38."
   ]
  },
  {
   "cell_type": "markdown",
   "metadata": {},
   "source": [
    "# Metodología de Solución"
   ]
  },
  {
   "cell_type": "markdown",
   "metadata": {},
   "source": [
    "El problema de clasificación binaria (con clases $C_1$ y $C_2$ dicotómicas) se define de la siguiente manera:\n",
    "\n",
    "\n",
    "* Cada patrón de entrada tiene la forma $\\mathbf{x}=[+1,x_1,x_2,…,x_n ]$.\n",
    "\n",
    "\n",
    "* Los parámetros del perceptrón binario son $\\mathbf{w}=[w_0,w_1,…,w_n]$ tal que $y=\\varphi(\\mathbf{w}^T \\mathbf{x})$.\n",
    "\n",
    "\n",
    "* Se desea encontrar el vector $\\mathbf{w}$ tal que el perceptrón clasifique correctamente todos los patrones de entrenamiento.\n",
    "\n",
    "\n",
    "* El error del perceptrón con parámetros $\\mathbf{w}$, $E(\\mathbf{w})$, es la cantidad de patrones mal clasificados.\n",
    "\n",
    "\n",
    "![alt](images/PerceptronBipClasificacion-01.png)\n"
   ]
  },
  {
   "cell_type": "markdown",
   "metadata": {},
   "source": [
    "### Regla de aprendizaje del perceptrón\n",
    "\n",
    "* $d(k)$ es la respuesta deseada para el patrón presentado en el instante $k$.\n",
    "\n",
    "\n",
    "* $e(k)$ es el error definido como:\n",
    "\n",
    "$$\n",
    "e(k)= \n",
    "d(k)-y(k) = \n",
    "d(k) - \\varphi \\left( \\sum_{i=0}^n w_i x_i (p) \\right) =\n",
    "\\begin{cases}      \n",
    "       0,  & \\text{Si $d(k) = y(k)$}\\\\\n",
    "      +2, & \\text{Si $d(k) = +1$ y $y(k) = -1$}\\\\\n",
    "      -2, & \\text{Si $d(k) = -1$ y $y(k) = +1$}\\\\\n",
    "\\end{cases}\n",
    "$$\n",
    "\n",
    "\n",
    "* Se desea calcular unos pesos corregidos $\\mathbf{w}(k+1)=\\mathbf{w}(k)+\\Delta \\mathbf{w}(k)$ tal que el perceptrón no se equivoque; es decir:\n",
    "\n",
    "$$\n",
    "\\varphi (\\mathbf{w}^T (k+1)  \\mathbf{x}(k)) = \\varphi ([ \\mathbf{w}(k)+ \\Delta \\mathbf{w}(k)]^T  \\mathbf{x}(k))=d(k)\n",
    "$$\n"
   ]
  },
  {
   "cell_type": "markdown",
   "metadata": {},
   "source": [
    "El cálculo de los pesos se realiza de la siguiente forma. Se requiere que:\n",
    "\n",
    "\n",
    "* \tSi $e(k)=+2$, entonces $d(k)=+1$,   $y(k)=-1$   y   $\\Delta \\mathbf{w}^T(k)  x(k)>0$ tal que:  $\\varphi (\\mathbf{w}^T (k+1)  \\mathbf{x}(k))=+1$.\n",
    "\n",
    "\n",
    "* Si $e(k)=-2$, entonces $d(k)=-1$,   $y(k)=+1$   y   $\\Delta \\mathbf{w}^T(k)  x(k)<0$ tal que:  $\\varphi (\\mathbf{w}^T (k+1)  \\mathbf{x}(k))=-1$.\n",
    "\n",
    "\n",
    "Entonces se podría escoger:\n",
    "\n",
    "$$\\Delta \\mathbf{w}(k)= \\eta e(k)  \\mathbf{x}(k)$$\n",
    "\n",
    "$$\\mathbf{w}(k+1) = \\mathbf{w}(k)+\\eta e(k)  \\mathbf{x}(k)$$\n",
    "\n",
    "donde $\\eta$ es la tasa de aprendizaje. Note que la ecuación presentada es similar a la usada para el ADALINE, pero en el caso del perceptrón, $e(k) \\in \\{-2, 0, 2\\}$, tal que la convergencia genera fronteras de decisión que usualmente son muy diferentes a las del ADALINE.  \n",
    "\n",
    "Se inicializa el vector de parámetros $\\mathbf{w}=[w_0,w_1,…,w_n ]^T$ con ceros, o con un valor aleatorio pequeño.\n",
    "\n",
    "Los patrones deberían presentarse en un orden aleatorio. \n",
    "\n"
   ]
  },
  {
   "cell_type": "markdown",
   "metadata": {},
   "source": [
    "El siguiente esquema permite diferenciar entre los algoritmos de aprendizaje del perceptrón y el ADALINE.\n",
    "\n",
    "![alt](images/PerceptronBipClasificacion-04.png)"
   ]
  },
  {
   "cell_type": "markdown",
   "metadata": {},
   "source": [
    "---\n",
    "**Ejercicio.--** Complete el siguiente código que permite realizar el entrenamiento de un perceptrón bipolar."
   ]
  },
  {
   "cell_type": "code",
   "execution_count": 1,
   "metadata": {},
   "outputs": [
    {
     "name": "stdout",
     "output_type": "stream",
     "text": [
      "\u001b[H\u001b[2J**********************************************************************\n",
      "File \"__main__\", line 40, in __main__.PerceptronBipolar.predict\n",
      "Failed example:\n",
      "    m.predict(x)\n",
      "Expected:\n",
      "    [ 1, 1, 1, 1, 1, -1, -1, -1, -1, -1, -1, -1, -1, -1, -1]\n",
      "Got nothing\n",
      "**********************************************************************\n",
      "1 items had failures:\n",
      "   1 of   7 in __main__.PerceptronBipolar.predict\n",
      "***Test Failed*** 1 failures.\n"
     ]
    }
   ],
   "source": [
    "%clear\n",
    "import numpy as np\n",
    "class PerceptronBipolar:\n",
    "    def __init__(self, n):\n",
    "        \"\"\"\n",
    "        n es el numero de entradas a la red \n",
    "        \"\"\"\n",
    "        pass\n",
    "    \n",
    "    def fit(self, x, y, eta=0.01, niter=100):\n",
    "        \"\"\"\n",
    "        x son las entradas, y es la salida esperada\n",
    "        \"\"\"\n",
    "        pass\n",
    "        \n",
    "    def predict(self, x):\n",
    "        \"\"\"\n",
    "        Pronostica la salida para una lista de entradas.\n",
    "        \n",
    "        >>> x = np.array([[10.67, 14.70],\n",
    "        ...               [ 9.74, 13.79],\n",
    "        ...               [10.23, 14.30],\n",
    "        ...               [11.17, 15.53],\n",
    "        ...               [10.41, 15.08],\n",
    "        ...               [10.87,  6.81],\n",
    "        ...               [11.95,  6.05],\n",
    "        ...               [12.77,  7.97],\n",
    "        ...               [14.42,  9.25],\n",
    "        ...               [13.25,  8.03],\n",
    "        ...               [13.27, 13.92],\n",
    "        ...               [14.40, 16.58],\n",
    "        ...               [14.50, 17.39],\n",
    "        ...               [14.20, 16.70],\n",
    "        ...               [14.62, 17.22]])\n",
    "        >>> d = np.array([0, 0, 0, 0, 0, 1, 1, 1, 1, 1, 2, 2, 2, 2, 2])\n",
    "        >>> d = np.array([0, 0, 0, 0, 0, 1, 1, 1, 1, 1, 2, 2, 2, 2, 2])\n",
    "        >>> y = np.array([+1 if x == 0 else -1 for x in d])\n",
    "        >>> m = PerceptronBipolar(2)\n",
    "        >>> m.fit(x, y)\n",
    "        >>> m.predict(x)\n",
    "        [ 1, 1, 1, 1, 1, -1, -1, -1, -1, -1, -1, -1, -1, -1, -1]\n",
    "       \n",
    "        \"\"\"\n",
    "        pass\n",
    "    \n",
    "if __name__ == \"__main__\":\n",
    "    import doctest\n",
    "    doctest.testmod()"
   ]
  },
  {
   "cell_type": "markdown",
   "metadata": {},
   "source": [
    "Para el caso de dos clases dicotómicas, un perceptrón bipolar genera una frontera lineal de decisión, en donde un nuevo punto desconocido se clasifica dependiendo del lado de la frontera en que este.\n",
    "\n",
    "![alt](images/PerceptronBipClasificacion-02.png)"
   ]
  },
  {
   "cell_type": "markdown",
   "metadata": {},
   "source": [
    "Para solucionar un problema de dos clases (clases independientes) se usa un clasificador conformado por dos perceptrones bipolares independientes, donde cada uno representa la pertenencia (o no pertenencia) a una clase determinada. De esta forma, el clasificador tendrá dos fronteras de decisión.\n",
    "\n",
    "![alt](images/PerceptronBipClasificacion-03.png)"
   ]
  },
  {
   "cell_type": "markdown",
   "metadata": {},
   "source": [
    "---\n",
    "**Ejercicio.--** Compare las fronteras de decisión generadas por un perceptron bipolar y un ADALINE.\n",
    "\n",
    "---"
   ]
  },
  {
   "cell_type": "markdown",
   "metadata": {},
   "source": [
    "### Variaciones al método del perceptrón\n",
    "\n",
    "La primera variación al método del perceptrón consiste en calcular la corrección neta sobre todos los patrones e introducir un mecanismo de adaptación en la tasa de aprendizaje:\n",
    "\n",
    "$$\n",
    "\\mathbf{w}(k+1) = \\mathbf{w}(k) + \\eta(k) \\sum_{p=1}^P  e(p) \\mathbf{x}(p)\n",
    "$$\n"
   ]
  },
  {
   "cell_type": "markdown",
   "metadata": {},
   "source": [
    "La segunda variación consiste en introducir un margen $b$ al realizarse el entrenamiento del perceptrón, tal que:\n",
    "\n",
    "$$\n",
    "y(k) = \\varphi \\left( \\mathbf{w}^T \\mathbf{x}(k)-b×d(k) \\right)\n",
    "$$"
   ]
  },
  {
   "cell_type": "markdown",
   "metadata": {},
   "source": [
    "---\n",
    "**Ejercicio.--** Modifique el código del ejercicio anterior para incorporar las dos variaciones indicadas simultaneamente. Para el caso de $\\eta$ considere que si el error disminuye de una iteración a otra, $\\eta$ aumenta; si el error aumenta, se retorna a los pesos anteriores y $\\eta$ disminuye."
   ]
  },
  {
   "cell_type": "code",
   "execution_count": 2,
   "metadata": {},
   "outputs": [
    {
     "name": "stdout",
     "output_type": "stream",
     "text": [
      "\u001b[H\u001b[2J**********************************************************************\n",
      "File \"__main__\", line 38, in __main__.PerceptronBiploar.predict\n",
      "Failed example:\n",
      "    m.predict(x)\n",
      "Expected:\n",
      "    [ 1, 1, 1, 1, 1, -1, -1, -1, -1, -1, -1, -1, -1, -1, -1]\n",
      "Got nothing\n",
      "**********************************************************************\n",
      "File \"__main__\", line 40, in __main__.PerceptronBipolar.predict\n",
      "Failed example:\n",
      "    m.predict(x)\n",
      "Expected:\n",
      "    [ 1, 1, 1, 1, 1, -1, -1, -1, -1, -1, -1, -1, -1, -1, -1]\n",
      "Got nothing\n",
      "**********************************************************************\n",
      "2 items had failures:\n",
      "   1 of   6 in __main__.PerceptronBiploar.predict\n",
      "   1 of   7 in __main__.PerceptronBipolar.predict\n",
      "***Test Failed*** 2 failures.\n"
     ]
    }
   ],
   "source": [
    "%clear\n",
    "class PerceptronBiploar:\n",
    "    def __init__(self, n):\n",
    "        \"\"\"\n",
    "        n es el numero de entradas a la red \n",
    "        \"\"\"\n",
    "        pass\n",
    "    \n",
    "    def fit(self, x, y, eta=0.01, niter=100):\n",
    "        \"\"\"\n",
    "        x son las entradas, y es la salida esperada\n",
    "        \"\"\"\n",
    "        pass\n",
    "        \n",
    "    def predict(self, x):\n",
    "        \"\"\"\n",
    "        Pronostica la salida para una lista de entradas.\n",
    "        \n",
    "        >>> x = np.array([[10.67, 14.70],\n",
    "        ...               [ 9.74, 13.79],\n",
    "        ...               [10.23, 14.30],\n",
    "        ...               [11.17, 15.53],\n",
    "        ...               [10.41, 15.08],\n",
    "        ...               [10.87,  6.81],\n",
    "        ...               [11.95,  6.05],\n",
    "        ...               [12.77,  7.97],\n",
    "        ...               [14.42,  9.25],\n",
    "        ...               [13.25,  8.03],\n",
    "        ...               [13.27, 13.92],\n",
    "        ...               [14.40, 16.58],\n",
    "        ...               [14.50, 17.39],\n",
    "        ...               [14.20, 16.70],\n",
    "        ...               [14.62, 17.22]])\n",
    "        >>> d = np.array([0, 0, 0, 0, 0, 1, 1, 1, 1, 1, 2, 2, 2, 2, 2])\n",
    "        >>> y = np.array([+1 if x == 0 else -1 for x in d])\n",
    "        >>> m = PerceptronBipolar(2)\n",
    "        >>> m.fit(x, y)\n",
    "        >>> m.predict(x)\n",
    "        [ 1, 1, 1, 1, 1, -1, -1, -1, -1, -1, -1, -1, -1, -1, -1]\n",
    "       \n",
    "       \n",
    "        \"\"\"\n",
    "        pass\n",
    "    \n",
    "if __name__ == \"__main__\":\n",
    "    import doctest\n",
    "    doctest.testmod()"
   ]
  },
  {
   "cell_type": "markdown",
   "metadata": {},
   "source": [
    "---"
   ]
  },
  {
   "cell_type": "markdown",
   "metadata": {},
   "source": [
    "Perceptrón Bipolar\n",
    "===\n",
    "\n",
    "**Juan David Velásquez Henao**  \n",
    "jdvelasq@unal.edu.co   \n",
    "Universidad Nacional de Colombia, Sede Medellín  \n",
    "Facultad de Minas  \n",
    "Medellín, Colombia\n",
    "\n",
    "---\n",
    "\n",
    "Haga click [aquí](https://github.com/jdvelasq/deep-neural-nets/tree/master/) para acceder al repositorio online.\n",
    "\n",
    "Haga click [aquí](http://nbviewer.jupyter.org/github/jdvelasq/deep-neural-nets/tree/master/) para explorar el repositorio usando `nbviewer`. "
   ]
  }
 ],
 "metadata": {
  "kernelspec": {
   "display_name": "Python 3",
   "language": "python",
   "name": "python3"
  },
  "language_info": {
   "codemirror_mode": {
    "name": "ipython",
    "version": 3
   },
   "file_extension": ".py",
   "mimetype": "text/x-python",
   "name": "python",
   "nbconvert_exporter": "python",
   "pygments_lexer": "ipython3",
   "version": "3.6.5"
  }
 },
 "nbformat": 4,
 "nbformat_minor": 2
}
