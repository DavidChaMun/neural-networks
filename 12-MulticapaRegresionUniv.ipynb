{
 "cells": [
  {
   "cell_type": "markdown",
   "metadata": {},
   "source": [
    "Regresión no lineal univariada\n",
    "===\n",
    "\n",
    "**Juan David Velásquez Henao**  \n",
    "jdvelasq@unal.edu.co   \n",
    "Universidad Nacional de Colombia, Sede Medellín  \n",
    "Facultad de Minas  \n",
    "Medellín, Colombia\n",
    "\n",
    "---\n",
    "\n",
    "Haga click [aquí](https://github.com/jdvelasq/deep-neural-nets/tree/master/) para acceder al repositorio online.\n",
    "\n",
    "Haga click [aquí](http://nbviewer.jupyter.org/github/jdvelasq/deep-neural-nets/tree/master/) para explorar el repositorio usando `nbviewer`. "
   ]
  },
  {
   "cell_type": "markdown",
   "metadata": {},
   "source": [
    "---"
   ]
  },
  {
   "cell_type": "markdown",
   "metadata": {},
   "source": [
    "# Definición del problema"
   ]
  },
  {
   "cell_type": "markdown",
   "metadata": {},
   "source": [
    "Se desea construir un modelo de regresión no lineal para la siguiente muestra de 31 observaciones de $(x, y)$. "
   ]
  },
  {
   "cell_type": "code",
   "execution_count": 1,
   "metadata": {
    "scrolled": true
   },
   "outputs": [
    {
     "name": "stderr",
     "output_type": "stream",
     "text": [
      "/Users/jdvelasq/anaconda3/lib/python3.6/site-packages/h5py/__init__.py:36: FutureWarning: Conversion of the second argument of issubdtype from `float` to `np.floating` is deprecated. In future, it will be treated as `np.float64 == np.dtype(float).type`.\n",
      "  from ._conv import register_converters as _register_converters\n"
     ]
    }
   ],
   "source": [
    "import math\n",
    "import matplotlib.pyplot as plt\n",
    "import numpy as np\n",
    "import tensorflow as tf\n",
    "\n",
    "##\n",
    "## por facilidad se generará una muestra artificial\n",
    "##\n",
    "x = np.linspace(start=-3.5, stop=3.5, num=31)\n",
    "d = np.exp(-x**2)\n",
    "plt.plot(x, d, 'o');"
   ]
  },
  {
   "cell_type": "markdown",
   "metadata": {},
   "source": [
    "# Metodología de Solución"
   ]
  },
  {
   "cell_type": "markdown",
   "metadata": {},
   "source": [
    "El perceptrón multicapa se obtiene al agrupar varios perceptrones continuos en capas para luego conectar las capas entre sí, una a continuación de la siguiente. Las neuronas de cada capa se conectan a todas y cada una de las neuronas de la siguiente capa. Solo hay conexiones entre capas adyacentes.\n",
    "\n",
    "Se consideran tres tipos de capas por su ubicación:\n",
    "\n",
    "\n",
    "* Capa de entrada: son nodos que simplemente capturan la información de entrada y la transmiten directamente a la siguiente capa sin realizar ningún tipo de procesamiento. Hay tantas neuronas de entrada como variables considere el modelo.\n",
    "\n",
    "\n",
    "* Capas ocultas de procesamiento: son capas internas usualmente no visibles por el usuario que realizan el procesamiento de la información.\n",
    "\n",
    "\n",
    "* Capa de salida: Entrega la señal de salida al usuario. Tiene tantas neuronas como variables de salida tenga el sistema.\n",
    "\n",
    "Un diagrama esquemático para un modelo con dos entradas $(x, y)$, una capa oculta con cuatro neuronas, y una capa de salida con una única neurona es presentado en la figura de abajo."
   ]
  },
  {
   "cell_type": "markdown",
   "metadata": {},
   "source": [
    "Un perceptrón multicapa puede aproximar cualquier función arbitraria simplemente agregando neuronas a la capa oculta. En la siguiente figura, se muestran las superficies generadas para por cada una de las cuatro neuronas de la capa oculta, y como al combinarse en la capa de salida producen la figura de la derecha."
   ]
  },
  {
   "cell_type": "markdown",
   "metadata": {},
   "source": [
    "![alt](images/MulticapaRegresionUniv-01.png)"
   ]
  },
  {
   "cell_type": "markdown",
   "metadata": {},
   "source": [
    "Una pregunta fundamental en redes neuronales es la determinación de cuántas capas ocultas y cuántas neuronas por capa oculta deben usarse. En la figura de abajo se presentan las fronteras de decisión para diferentes configuraciones de una red neuronal para resolver un problema de clasificación. Un perceptrón simple puede generar una frontera de decisión lineal; un perceptrón multicapa puede generar una superficie compacta donde la región sombreada representa una clase y el resto de la superficie representa la otra; esto se debe a que la neurona de salida función como una función AND. Esto implica (de forma intuitiva) que un perceptrón con una capa oculta puede aproximar cualquier función continua definida en un dominio compacto\n",
    "\n",
    "Finalmente, una red con dos capas ocultas puede resolver problemas de clasificación donde los elementos de la clase de interes están aglomerados en distintas regiones (ya no hay un dominio compacto). Podría decirse que cada neurona de la capa oculta es una función AND que se especializa en una región compacta, mientras que la neurona de salida es una función lógica OR.\n",
    "\n",
    "\n",
    "![alt](images/MulticapaRegresionUniv-02.png)"
   ]
  },
  {
   "cell_type": "markdown",
   "metadata": {},
   "source": [
    "La estimación de los parámetros óptimos se realiza mediante el método del descenso acelerado, usualmente minimizando el error cuadrático medio, tal como ya se ha realizado en casos anteriores:\n",
    "\n",
    "$$\n",
    "\\mathbf{w}(k+1) = \\mathbf{w}(k) - \\mu \\frac{\\partial}{\\partial\\mathbf{w}(k)} \\left[ e^2(k)\\right]\n",
    "$$\n",
    "\n",
    "La dificultad subyace en la estimación del gradiente de los pesos de las conexiones respecto al error.\n",
    "\n",
    "![alt](images/MulticapaRegresionUniv-03.png)"
   ]
  },
  {
   "cell_type": "markdown",
   "metadata": {},
   "source": [
    "---\n",
    "**Actividad.--** Realice la derivación del gradiente del perceptrón multicapa que aparece en el documento anexo.\n",
    "\n",
    "---"
   ]
  },
  {
   "cell_type": "markdown",
   "metadata": {},
   "source": [
    "### Solución al problema propuesto"
   ]
  },
  {
   "cell_type": "code",
   "execution_count": 2,
   "metadata": {},
   "outputs": [
    {
     "name": "stdout",
     "output_type": "stream",
     "text": [
      "_________________________________________________________________\n",
      "Layer (type)                 Output Shape              Param #   \n",
      "=================================================================\n",
      "dense (Dense)                (None, 1)                 2         \n",
      "_________________________________________________________________\n",
      "dense_1 (Dense)              (None, 1)                 2         \n",
      "=================================================================\n",
      "Total params: 4\n",
      "Trainable params: 4\n",
      "Non-trainable params: 0\n",
      "_________________________________________________________________\n"
     ]
    }
   ],
   "source": [
    "## crea el modelo vacio\n",
    "model = tf.keras.Sequential()\n",
    "\n",
    "## capa oculta\n",
    "model.add(tf.keras.layers.Dense(1,                         # una neurona en la capa oculta   \n",
    "                                activation=tf.nn.sigmoid,  # función de activación\n",
    "                                input_shape = (1,)))       # una neurona de entrada\n",
    "\n",
    "## capa de salida\n",
    "model.add(tf.keras.layers.Dense(1,                         # una neurona de salida\n",
    "                                activation=tf.nn.sigmoid)) # capa de salida\n",
    "\n",
    "## reporte de configuración del modelo\n",
    "model.summary()          "
   ]
  },
  {
   "cell_type": "code",
   "execution_count": 3,
   "metadata": {},
   "outputs": [
    {
     "data": {
      "image/png": "[encoded data removed]",
      "text/plain": [
       "<Figure size 432x288 with 1 Axes>"
      ]
     },
     "metadata": {},
     "output_type": "display_data"
    }
   ],
   "source": [
    "## optimizacion usando gradiente\n",
    "optimizer = tf.train.GradientDescentOptimizer(learning_rate=0.1)\n",
    "\n",
    "## crea el modelo\n",
    "model.compile(optimizer=optimizer,     # optimizador\n",
    "              loss='mse',              # función a minimizar\n",
    "              metrics=['mse', 'mae'])  # metricas a reportar\n",
    "\n",
    "## entrena el modelo y guarda \n",
    "## el reporte de entrenamiento\n",
    "history = model.fit(x, d, epochs=1500, verbose=0)\n",
    "\n",
    "## grafico del error versus la iteración\n",
    "plt.plot(history.epoch, np.array(history.history['loss']));\n"
   ]
  },
  {
   "cell_type": "code",
   "execution_count": 4,
   "metadata": {
    "scrolled": true
   },
   "outputs": [
    {
     "data": {
      "image/png": "[encoded data removed]",
      "text/plain": [
       "<Figure size 432x288 with 1 Axes>"
      ]
     },
     "metadata": {},
     "output_type": "display_data"
    }
   ],
   "source": [
    "## pronostica para una malla densa del eje X\n",
    "x_pred = np.linspace(start=-3.5, stop=3.5, num=30)\n",
    "y_pred = model.predict(x_pred)\n",
    "\n",
    "## grafico comparativo\n",
    "plt.plot(x, d, 'o');\n",
    "plt.plot(x_pred, y_pred);"
   ]
  },
  {
   "cell_type": "markdown",
   "metadata": {},
   "source": [
    "---\n",
    "**Ejercicio.--** Si corre las celdas anteriores nuevamente cambia el resultado?\n",
    "\n",
    "---\n",
    "**Ejercicio.--** Construya modelos desde una hasta cinco neuronas en la capa oculta. Cuántos parámetros tiene cada modelo? Cuál es el número óptimo de neuronas en la capa oculta? Cómo puede manear el problema relacionado con el punto de arranque?\n",
    "\n",
    "---"
   ]
  },
  {
   "cell_type": "markdown",
   "metadata": {},
   "source": [
    "Regresión no lineal univariada\n",
    "===\n",
    "\n",
    "**Juan David Velásquez Henao**  \n",
    "jdvelasq@unal.edu.co   \n",
    "Universidad Nacional de Colombia, Sede Medellín  \n",
    "Facultad de Minas  \n",
    "Medellín, Colombia\n",
    "\n",
    "---\n",
    "\n",
    "Haga click [aquí](https://github.com/jdvelasq/deep-neural-nets/tree/master/) para acceder al repositorio online.\n",
    "\n",
    "Haga click [aquí](http://nbviewer.jupyter.org/github/jdvelasq/deep-neural-nets/tree/master/) para explorar el repositorio usando `nbviewer`. "
   ]
  }
 ],
 "metadata": {
  "kernelspec": {
   "display_name": "Python 3",
   "language": "python",
   "name": "python3"
  },
  "language_info": {
   "codemirror_mode": {
    "name": "ipython",
    "version": 3
   },
   "file_extension": ".py",
   "mimetype": "text/x-python",
   "name": "python",
   "nbconvert_exporter": "python",
   "pygments_lexer": "ipython3",
   "version": "3.6.5"
  }
 },
 "nbformat": 4,
 "nbformat_minor": 2
}
