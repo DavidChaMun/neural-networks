{
 "cells": [
  {
   "cell_type": "markdown",
   "metadata": {},
   "source": [
    "Regresión no lineal multivariada\n",
    "===\n",
    "\n",
    "**Juan David Velásquez Henao**  \n",
    "jdvelasq@unal.edu.co   \n",
    "Universidad Nacional de Colombia, Sede Medellín  \n",
    "Facultad de Minas  \n",
    "Medellín, Colombia\n",
    "\n",
    "---\n",
    "\n",
    "Haga click [aquí](https://github.com/jdvelasq/deep-neural-nets/tree/master/) para acceder al repositorio online.\n",
    "\n",
    "Haga click [aquí](http://nbviewer.jupyter.org/github/jdvelasq/deep-neural-nets/tree/master/) para explorar el repositorio usando `nbviewer`. "
   ]
  },
  {
   "cell_type": "markdown",
   "metadata": {},
   "source": [
    "---"
   ]
  },
  {
   "cell_type": "markdown",
   "metadata": {},
   "source": [
    "# Definición del problema"
   ]
  },
  {
   "cell_type": "markdown",
   "metadata": {},
   "source": [
    "El archivo `data/13-RegresionMulti.csv` contiene 200 registros para la variables $x_0$, $x_1$, ..., $x_9$ y $y$, los cuales fueron obtenidos en un experimento de laboratorio. Se desea construir un modelo de regresión que permita obtener los valores de $y$ para los siguientes datos de entrada:\n",
    "\n",
    "      #     x0     x1     x2     x3     x4     x5     x6     x7     x8     x9       y\n",
    "     ----------------------------------------------------------------------------------\n",
    "      1  0.806  0.725  0.768  0.333  0.101  0.153  0.289  0.587  0.607  0.897  ______\n",
    "      2  0.504  0.902  0.576  0.409  0.737  0.738  0.962  0.917  0.353  0.768  ______\n",
    "      3  0.493  0.929  0.342  0.345  0.328  0.433  0.111  0.511  0.820  0.359  ______\n",
    "      4  0.775  0.192  0.643  0.643  0.297  0.879  0.546  0.628  0.721  0.038  ______\n",
    "      5  0.400  0.848  0.743  0.361  0.265  0.474  0.799  0.535  0.998  0.152  ______\n",
    "      6  0.951  0.033  0.108  0.389  0.973  0.430  0.018  0.017  0.121  0.533  ______\n",
    "      7  0.843  0.403  0.283  0.384  0.288  0.395  0.668  0.948  0.861  0.424  ______\n",
    "      8  0.262  0.718  0.001  0.428  0.832  0.722  0.422  0.934  0.139  0.519  ______\n",
    "      9  0.183  0.550  0.186  0.209  0.822  0.486  0.332  0.495  0.406  0.057  ______\n",
    "     10  0.795  0.118  0.781  0.617  0.393  0.736  0.649  0.422  0.313  0.935  ______\n",
    "\n",
    "\n",
    "\n",
    "\n",
    "Usted debe construir una red neuronal artificial para la cual debe determinar: \n",
    "\n",
    "* Las variables independientes relevantes.\n",
    "\n",
    "\n",
    "* La transformación de dichas variables relevantes (en caso de ser necesario). \n",
    "\n",
    "\n",
    "* La cantidad de neuronas en la capa oculta.\n",
    "\n",
    "\n",
    "* Los valores óptimos de los pesos sinápticos.\n",
    "      \n",
    "     \n",
    "     "
   ]
  },
  {
   "cell_type": "markdown",
   "metadata": {},
   "source": [
    "Regresión no lineal multivariada\n",
    "===\n",
    "\n",
    "**Juan David Velásquez Henao**  \n",
    "jdvelasq@unal.edu.co   \n",
    "Universidad Nacional de Colombia, Sede Medellín  \n",
    "Facultad de Minas  \n",
    "Medellín, Colombia\n",
    "\n",
    "---\n",
    "\n",
    "Haga click [aquí](https://github.com/jdvelasq/deep-neural-nets/tree/master/) para acceder al repositorio online.\n",
    "\n",
    "Haga click [aquí](http://nbviewer.jupyter.org/github/jdvelasq/deep-neural-nets/tree/master/) para explorar el repositorio usando `nbviewer`. "
   ]
  }
 ],
 "metadata": {
  "kernelspec": {
   "display_name": "Python 3",
   "language": "python",
   "name": "python3"
  },
  "language_info": {
   "codemirror_mode": {
    "name": "ipython",
    "version": 3
   },
   "file_extension": ".py",
   "mimetype": "text/x-python",
   "name": "python",
   "nbconvert_exporter": "python",
   "pygments_lexer": "ipython3",
   "version": "3.6.5"
  }
 },
 "nbformat": 4,
 "nbformat_minor": 2
}
