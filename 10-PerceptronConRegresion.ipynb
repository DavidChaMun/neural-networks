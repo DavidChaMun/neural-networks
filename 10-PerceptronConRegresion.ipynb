{
 "cells": [
  {
   "cell_type": "markdown",
   "metadata": {},
   "source": [
    "Regresion No Lineal usando un Perceptrón Continuo\n",
    "===\n",
    "\n",
    "**Juan David Velásquez Henao**  \n",
    "jdvelasq@unal.edu.co   \n",
    "Universidad Nacional de Colombia, Sede Medellín  \n",
    "Facultad de Minas  \n",
    "Medellín, Colombia\n",
    "\n",
    "---\n",
    "\n",
    "Haga click [aquí](https://github.com/jdvelasq/deep-neural-nets/tree/master/) para acceder al repositorio online.\n",
    "\n",
    "Haga click [aquí](http://nbviewer.jupyter.org/github/jdvelasq/deep-neural-nets/tree/master/) para explorar el repositorio usando `nbviewer`. "
   ]
  },
  {
   "cell_type": "markdown",
   "metadata": {},
   "source": [
    "---"
   ]
  },
  {
   "cell_type": "markdown",
   "metadata": {},
   "source": [
    "# Definición del problema"
   ]
  },
  {
   "cell_type": "markdown",
   "metadata": {},
   "source": [
    "Se desea contruir un modelo de regresión para los siguientes datos:\n",
    " \n",
    "     #      x          d\n",
    "    ----------------------\n",
    "     1  -6.1807  -0.0089 \n",
    "     2   1.9568   0.9799 \n",
    "     3   1.7484   0.9843 \n",
    "     4   1.9741   1.0012 \n",
    "     5   5.7746   1.0192 \n",
    "     6   2.2450   0.9977 \n",
    "     7  -7.8481  -0.0102 \n",
    "     8  -4.2792   0.0095 \n",
    "     9   2.6573   0.9832 \n",
    "    10   0.2280   1.0441 \n",
    "    11   3.0975   1.0027 \n",
    "    12   0.7196   0.9886 \n",
    "    13  -3.4763   0.1155 \n",
    "    14   6.7749   1.0092 \n",
    "    15  -3.3229   0.1478 \n",
    "    16   5.3967   0.9710 \n",
    "    17  -3.4204   0.1484 \n",
    "    18  -3.7309   0.0581 \n",
    "    19  -5.0124   0.0062 \n",
    "    20  -4.2844   0.0087\n",
    "\n",
    "\n",
    "![alt](images/PerceptronRegresion-01.png)"
   ]
  },
  {
   "cell_type": "markdown",
   "metadata": {},
   "source": [
    "# Metodología de Solución"
   ]
  },
  {
   "cell_type": "markdown",
   "metadata": {},
   "source": [
    "Este problema será resuelto mediante un perceptrón continuo. En el perceptrón continuo, la función de activación es del tipo sigmoidea-logística en vez de la función de paso duro.\n",
    "\n",
    "* Función tangente hiperbólica:\n",
    "\n",
    "$$\\tanh⁡(v) = \\frac{\\sinh⁡(v)}{\\cosh⁡(v)} = \\frac{\\exp⁡(v)-\\exp⁡(-v)}{\\exp⁡(v)+\\exp⁡(-v)}=\\frac{1-\\exp⁡(-2v)}{1+\\exp⁡(2v)} $$\n",
    "\n",
    "* Función sigmoidea:\n",
    "\n",
    "$$\\sigma (v) = \\frac{1}{1+\\exp(-v)}$$\n",
    "\n",
    "\n",
    "\n",
    "![alt](images/PerceptronRegresion-02.png)"
   ]
  },
  {
   "cell_type": "markdown",
   "metadata": {},
   "source": [
    "---\n",
    "**Ejercicio.--** Demuestre que:\n",
    "\n",
    "$$\\tanh(v) = 2 * \\sigma(2 * v) - 1$$\n",
    "\n",
    "---"
   ]
  },
  {
   "cell_type": "markdown",
   "metadata": {},
   "source": [
    "La función de activación $\\sigma(.)$ mapea la entrada $[x_1,x_2,…,x_n ] \\in R^n$ al rango $[0,1]$ para señales unipolares y al rango $[-1,+1]$ para señales bipolares. Se asume que $\\sigma(.) \\in [-1,+1]$.\n",
    "\n",
    "$\\sigma(.)$ es una función sigmoidal continua y diferenciable, tal que:\n",
    "\n",
    "* $\\sigma(u) \\to \\pm 1$ cuando $u \\to \\pm \\infty$\n",
    "\n",
    "\n",
    "* $\\sigma(u) \\in [-1,+1]$\n",
    "\n",
    "\n",
    "* $\\sigma(u)=$0  en un único punto $u=0$.\n",
    "\n",
    "\n",
    "* $\\sigma'(u)>0$ y $\\sigma'(u) \\to 0$ cuando $u \\to \\pm \\infty$ (monótonamente creciente)\n",
    "\n",
    "\n",
    "* $\\sigma'(u)$ tiene un máximo global $>0$.\n"
   ]
  },
  {
   "cell_type": "markdown",
   "metadata": {},
   "source": [
    "### Algoritmo de propagación hacia atrás del error (backpropagation)\n",
    "\n",
    "Para estimar los valores de los pesos asociados a las conexiones se usa el algoritmo de backpropagation. En este caso, el error instantaneo se define como:\n",
    "\n",
    "\n",
    "$$e(k)=d(k)-y(k)=d(k)-\\sigma \\left( \\mathbf{w}^T (k) \\mathbf{x}(k) \\right) $$\n",
    "\n",
    "$$=d(k)- \\sigma \\left( \\sum_{i=1}^n w_i(k) x_i(k) \\right)$$\n",
    "\n",
    "\n",
    "El gradiente del error cuadrático medio es:\n",
    "\n",
    "$$\\frac{\\partial}{\\partial \\mathbf{w}(k)} [e^2(k)] = \n",
    "2 e(k) \\frac{\\partial}{\\partial \\mathbf{w}(k)} [e(k)] =\n",
    "2 e(k) \\left[ - \\frac{\\partial y(k)}{\\partial \\mathbf{w}(k)}  \\right]=\n",
    "2 e(k) \\left[ -\\sigma' (s(k)) \\frac{\\partial s(k)}{\\partial \\mathbf{w} } \\right] = \n",
    "-2 e(k) \\sigma' \\left(s(k) \\right) \\mathbf{x}(k)\n",
    "$$\n",
    "\n",
    "\n",
    "Aplicando el método del descenso acelerado para minimizar el error cuadrático medio se obtiene:\n",
    "\n",
    "$$\n",
    "\\mathbf{w}(k+1) = \\mathbf{w}(k) - \\mu \\frac{\\partial}{\\partial\\mathbf{w}(k)} \\left[ e^2(k)\\right] =\n",
    "\\mathbf{w}(k) + 2 \\mu e(k) \\sigma' \\left(s(k) \\right) \\mathbf{x}(k)\n",
    "$$"
   ]
  },
  {
   "cell_type": "markdown",
   "metadata": {},
   "source": [
    "Las derivadas de la función de activación son las siguientes\n",
    "\n",
    "* Para la función logistica-sigmoidea:\n",
    "\n",
    "$$\n",
    "\\sigma (u) = \\frac{1}{1+\\exp(-u)}, \\quad  \\frac{\\partial }{\\partial u} \\sigma(u)=\\sigma(u)[1-\\sigma(u)]\n",
    "$$\n",
    "\n",
    "\n",
    "* Para la función $\\tanh$:\n",
    "\n",
    "$$\n",
    "\\sigma(u) = \\tanh(u) = \\frac{\\exp(u) - \\exp(-u)}{\\exp(u) + \\exp(-u)}, \\quad \\frac{d}{du} \\sigma(u) = 1 - \\sigma(u)^2\n",
    "$$"
   ]
  },
  {
   "cell_type": "markdown",
   "metadata": {},
   "source": [
    "---\n",
    "**Ejercicio.--** Demuestre las dos derivadas anteriores.\n",
    "\n",
    "---"
   ]
  },
  {
   "cell_type": "markdown",
   "metadata": {},
   "source": [
    "La función de error puede ser muy compleja, lo que dificulta enormemente el proceso de optimización.\n",
    "\n",
    "![alt](images/PerceptronRegresion-03.png)"
   ]
  },
  {
   "cell_type": "markdown",
   "metadata": {},
   "source": [
    "### Solución al problema propuesto usando `numpy`"
   ]
  },
  {
   "cell_type": "markdown",
   "metadata": {},
   "source": [
    "Para solucionar el problema se usará un perceptrón continuo que usa la función logística. La fórmula de correción de los pesos es la siguiente:\n",
    "\n",
    "$$\n",
    "\\mathbf{w}(k+1) = \n",
    "\\mathbf{w}(k) + 2 \\mu e(k) \\cdot \\sigma(u)[1-\\sigma(u)] \\cdot  \\mathbf{x}(k)\n",
    "$$"
   ]
  },
  {
   "cell_type": "code",
   "execution_count": 1,
   "metadata": {},
   "outputs": [
    {
     "name": "stderr",
     "output_type": "stream",
     "text": [
      "/Users/jdvelasq/anaconda3/lib/python3.6/site-packages/h5py/__init__.py:36: FutureWarning: Conversion of the second argument of issubdtype from `float` to `np.floating` is deprecated. In future, it will be treated as `np.float64 == np.dtype(float).type`.\n",
      "  from ._conv import register_converters as _register_converters\n"
     ]
    },
    {
     "data": {
      "image/png": "[encoded data removed]",
      "text/plain": [
       "<Figure size 432x288 with 1 Axes>"
      ]
     },
     "metadata": {},
     "output_type": "display_data"
    }
   ],
   "source": [
    "import numpy as np\n",
    "import math\n",
    "import matplotlib.pyplot as plt\n",
    "import tensorflow as tf\n",
    "%matplotlib inline\n",
    "\n",
    "##\n",
    "## datos del problema propuesto\n",
    "##\n",
    "x = np.array([-6.1807,   1.9568,   1.7484,   1.9741,   5.7746,\n",
    "               2.2450,  -7.8481,  -4.2792,   2.6573,   0.2280,\n",
    "               3.0975,   0.7196,  -3.4763,   6.7749,  -3.3229,\n",
    "               5.3967,  -3.4204,  -3.7309,  -5.0124,  -4.2844])\n",
    "\n",
    "d = np.array([-0.0089,   0.9799,   0.9843,   1.0012,   1.0192, \n",
    "               0.9977,  -0.0102,   0.0095,   0.9832,   1.0441,\n",
    "               1.0027,   0.9886,   0.1155,   1.0092,   0.1478, \n",
    "               0.9710,   0.1484,   0.0581,   0.0062,   0.0087])\n",
    "\n",
    "plt.plot(x.tolist(), d.tolist(), 'o');"
   ]
  },
  {
   "cell_type": "code",
   "execution_count": 2,
   "metadata": {
    "scrolled": false
   },
   "outputs": [
    {
     "data": {
      "image/png": "[encoded data removed]",
      "text/plain": [
       "<Figure size 432x288 with 1 Axes>"
      ]
     },
     "metadata": {},
     "output_type": "display_data"
    },
    {
     "data": {
      "image/png": "[encoded data removed]",
      "text/plain": [
       "<Figure size 432x288 with 1 Axes>"
      ]
     },
     "metadata": {},
     "output_type": "display_data"
    }
   ],
   "source": [
    "##\n",
    "## Esta función retorna los pesos óptimos del perceptrón \n",
    "## continuo\n",
    "##\n",
    "def PercetronCon(x, d, mu=0.0001, niter=100):\n",
    "    ##\n",
    "    ## `x` es una matriz donde cada columna es una variable y\n",
    "    ## cada fila un ejemplo. `d` es un array con\n",
    "    ## el valor deseado\n",
    "    ##\n",
    "    \n",
    "    ## vector columna de pesos\n",
    "    w = np.zeros((1 + len(x[0]), 1))\n",
    "    \n",
    "    ## agrega una columna de 1s a la matriz x\n",
    "    x = np.hstack((np.full((len(d), 1), 1), x))\n",
    "    \n",
    "    ## convierte la salida deseada a vector columna\n",
    "    d = d.reshape(len(d), 1)\n",
    "    \n",
    "    ## ejecuta la optimización\n",
    "    history = []\n",
    "    for iter in range(niter):\n",
    "        y = x @ w\n",
    "        y = np.vectorize(lambda x: 1 /(1 + math.exp(-x)))(y)\n",
    "        s = np.multiply(y, (1 - y))\n",
    "        e = d - y\n",
    "        f = np.multiply(s, e)\n",
    "        f = np.multiply(f, x)\n",
    "        w = w + (2 * mu * np.sum(f, axis=0)).reshape(len(w), 1)\n",
    "        history.append(sum([a**2 for a in e]))\n",
    "    \n",
    "    return w, history\n",
    "\n",
    "\n",
    "## entrena el modelo\n",
    "w, history = PercetronCon(x.reshape(len(x), 1), d, mu=0.001, niter=1500)\n",
    "\n",
    "## construye la aproximación continua \n",
    "x_pred = np.linspace(start=-8, stop=8, num=20)\n",
    "y_pred = np.hstack((np.full((len(x_pred), 1), 1), x_pred.reshape(len(x_pred), 1))) @ w\n",
    "y_pred = np.vectorize(lambda u: 1 /(1 + math.exp(-u)))(y_pred)\n",
    "\n",
    "\n",
    "## grafica de la regresion\n",
    "plt.plot(x.flatten(), d.flatten(), 'o');\n",
    "plt.plot(x_pred, y_pred);\n",
    "\n",
    "## evolución del error\n",
    "plt.figure()\n",
    "plt.plot(history);"
   ]
  },
  {
   "cell_type": "markdown",
   "metadata": {},
   "source": [
    "---\n",
    "**Ejercicio.--** Complete el siguiente código que permite realizar el entrenamiento de un perceptrón continuo que usa la función sigmoidea como activación."
   ]
  },
  {
   "cell_type": "code",
   "execution_count": 3,
   "metadata": {},
   "outputs": [
    {
     "name": "stdout",
     "output_type": "stream",
     "text": [
      "\u001b[H\u001b[2J"
     ]
    }
   ],
   "source": [
    "%clear\n",
    "class PerceptronBipolar:\n",
    "    def __init__(self, n):\n",
    "        \"\"\"\n",
    "        n es el numero de entradas a la red \n",
    "        \"\"\"\n",
    "        pass\n",
    "    \n",
    "    def fit(self, x, y, eta=0.01, niter=100):\n",
    "        \"\"\"\n",
    "        x son las entradas, y es la salida esperada\n",
    "        \"\"\"\n",
    "        pass\n",
    "        \n",
    "    def predict(self, x):\n",
    "        \"\"\"\n",
    "        Pronostica la salida para una lista de entradas.\n",
    "        \n",
    "        >>> x = np.array([-6.1807,   1.9568,   1.7484,   1.9741,   5.7746,\n",
    "        ...                2.2450,  -7.8481,  -4.2792,   2.6573,   0.2280,\n",
    "        ...                3.0975,   0.7196,  -3.4763,   6.7749,  -3.3229,\n",
    "        ...                5.3967,  -3.4204,  -3.7309,  -5.0124,  -4.2844])\n",
    "        >>> d = np.array([-0.0089,   0.9799,   0.9843,   1.0012,   1.0192, \n",
    "        ...                0.9977,  -0.0102,   0.0095,   0.9832,   1.0441,\n",
    "        ...                1.0027,   0.9886,   0.1155,   1.0092,   0.1478, \n",
    "        ...                0.9710,   0.1484,   0.0581,   0.0062,   0.0087])\n",
    "        >>> m = PerceptronBipolar(2)\n",
    "        >>> m.fit(x, d)\n",
    "        >>> x_pred = np.linspace(start=-8, stop=8, num=20)\n",
    "        >>> m.predict(x_pred)\n",
    "       \n",
    "       \n",
    "        \"\"\"\n",
    "        pass\n",
    "    \n",
    "if __name__ == \"__main__\":\n",
    "    import doctest\n",
    "    doctest.testmod()"
   ]
  },
  {
   "cell_type": "markdown",
   "metadata": {},
   "source": [
    "---"
   ]
  },
  {
   "cell_type": "markdown",
   "metadata": {},
   "source": [
    "**Ejercicio.--** Modifique el código anterior para usar la función $\\tanh$ como activación.\n",
    "\n",
    "---"
   ]
  },
  {
   "cell_type": "markdown",
   "metadata": {},
   "source": [
    "### Solución representando los cómputos en `TensorFlow`"
   ]
  },
  {
   "cell_type": "code",
   "execution_count": 4,
   "metadata": {},
   "outputs": [
    {
     "data": {
      "text/plain": [
       "array([0., 0., 0.])"
      ]
     },
     "execution_count": 4,
     "metadata": {},
     "output_type": "execute_result"
    }
   ],
   "source": [
    "np.zeros(3)"
   ]
  },
  {
   "cell_type": "code",
   "execution_count": 5,
   "metadata": {},
   "outputs": [
    {
     "name": "stdout",
     "output_type": "stream",
     "text": [
      "4.264790271859887\n",
      "0.5291876038901535\n",
      "0.3770225089336518\n",
      "0.30795842199371504\n",
      "0.2652777663634163\n"
     ]
    },
    {
     "data": {
      "image/png": "[encoded data removed]",
      "text/plain": [
       "<Figure size 432x288 with 1 Axes>"
      ]
     },
     "metadata": {},
     "output_type": "display_data"
    },
    {
     "data": {
      "image/png": "[encoded data removed]",
      "text/plain": [
       "<Figure size 432x288 with 1 Axes>"
      ]
     },
     "metadata": {},
     "output_type": "display_data"
    }
   ],
   "source": [
    "##\n",
    "## datos del problema propuesto\n",
    "##\n",
    "x = np.array([-6.1807,   1.9568,   1.7484,   1.9741,   5.7746,\n",
    "               2.2450,  -7.8481,  -4.2792,   2.6573,   0.2280,\n",
    "               3.0975,   0.7196,  -3.4763,   6.7749,  -3.3229,\n",
    "               5.3967,  -3.4204,  -3.7309,  -5.0124,  -4.2844])\n",
    "x = x.reshape(len(x), 1)\n",
    "x = np.hstack((np.full((len(x), 1), 1), x))\n",
    "\n",
    "d = np.array([-0.0089,   0.9799,   0.9843,   1.0012,   1.0192, \n",
    "               0.9977,  -0.0102,   0.0095,   0.9832,   1.0441,\n",
    "               1.0027,   0.9886,   0.1155,   1.0092,   0.1478, \n",
    "               0.9710,   0.1484,   0.0581,   0.0062,   0.0087])\n",
    "d = d.reshape(len(d), 1)\n",
    "\n",
    "##\n",
    "## define las constantes y las variables\n",
    "##\n",
    "x_ = tf.constant(x) \n",
    "d_ = tf.constant(d) \n",
    "w_ = tf.Variable(np.zeros(len(x[0])).reshape(len(x[0]), 1))\n",
    "\n",
    "##\n",
    "## calcula el error\n",
    "##\n",
    "sse = tf.reduce_sum(tf.square(d_ - tf.nn.sigmoid(tf.matmul(x_, w_))))\n",
    "    \n",
    "## Inicializa el optimizador\n",
    "opt = tf.train.GradientDescentOptimizer(learning_rate=0.001)\n",
    "opt = opt.minimize(sse)\n",
    "\n",
    "\n",
    "##\n",
    "## pronostico\n",
    "##\n",
    "x_pred = np.linspace(start=-8, stop=8, num=30)\n",
    "x_pred = x_pred.reshape(len(x_pred), 1)\n",
    "x_pred = np.hstack((np.full((len(x_pred), 1), 1), x_pred)) \n",
    "x_pred_ = tf.constant(x_pred)\n",
    "y_pred_ = tf.nn.sigmoid(tf.matmul(x_pred_, w_))\n",
    "\n",
    "##\n",
    "## historia\n",
    "##\n",
    "h = []\n",
    "\n",
    "## estima el modelo\n",
    "with tf.Session() as sess:\n",
    "    sess.run(tf.global_variables_initializer())\n",
    "    for i in range(1000):\n",
    "        sess.run(opt)\n",
    "        h.append(sse.eval())\n",
    "        if (i % 200 == 0):\n",
    "            print(sess.run(sse))        \n",
    "    \n",
    "    ## grafica de la regresion\n",
    "    x_plot = [e[1] for e in x]\n",
    "    plt.plot(x_plot, d.flatten(), 'o');\n",
    "    plt.plot([e[1] for e in x_pred], y_pred_.eval())\n",
    " \n",
    "plt.figure()\n",
    "plt.plot(h);\n"
   ]
  },
  {
   "cell_type": "markdown",
   "metadata": {},
   "source": [
    "### Solución representado una red neuronal de una neurona usando `TensorFlow`"
   ]
  },
  {
   "cell_type": "code",
   "execution_count": 6,
   "metadata": {
    "scrolled": false
   },
   "outputs": [
    {
     "name": "stdout",
     "output_type": "stream",
     "text": [
      "_________________________________________________________________\n",
      "Layer (type)                 Output Shape              Param #   \n",
      "=================================================================\n",
      "dense (Dense)                (None, 1)                 2         \n",
      "=================================================================\n",
      "Total params: 2\n",
      "Trainable params: 2\n",
      "Non-trainable params: 0\n",
      "_________________________________________________________________\n"
     ]
    },
    {
     "data": {
      "image/png": "[encoded data removed]",
      "text/plain": [
       "<Figure size 432x288 with 1 Axes>"
      ]
     },
     "metadata": {},
     "output_type": "display_data"
    },
    {
     "data": {
      "image/png": "[encoded data removed]",
      "text/plain": [
       "<Figure size 432x288 with 1 Axes>"
      ]
     },
     "metadata": {},
     "output_type": "display_data"
    }
   ],
   "source": [
    "##\n",
    "## datos del problema propuesto\n",
    "##\n",
    "x = np.array([-6.1807,   1.9568,   1.7484,   1.9741,   5.7746,\n",
    "               2.2450,  -7.8481,  -4.2792,   2.6573,   0.2280,\n",
    "               3.0975,   0.7196,  -3.4763,   6.7749,  -3.3229,\n",
    "               5.3967,  -3.4204,  -3.7309,  -5.0124,  -4.2844])\n",
    "x = x.reshape(len(x), 1)\n",
    "\n",
    "d = np.array([-0.0089,   0.9799,   0.9843,   1.0012,   1.0192, \n",
    "               0.9977,  -0.0102,   0.0095,   0.9832,   1.0441,\n",
    "               1.0027,   0.9886,   0.1155,   1.0092,   0.1478, \n",
    "               0.9710,   0.1484,   0.0581,   0.0062,   0.0087])\n",
    "d = d.reshape(len(d), 1)\n",
    "\n",
    "##\n",
    "## crea la red neuronal\n",
    "##\n",
    "model = tf.keras.Sequential()\n",
    "model.add(tf.keras.layers.Dense(1, activation=tf.nn.sigmoid, input_shape = (1,)))\n",
    "model.summary()          \n",
    "\n",
    "##\n",
    "## crea y parametriza el optimizador\n",
    "##\n",
    "optimizer = tf.train.GradientDescentOptimizer(learning_rate=0.1)\n",
    "\n",
    "##\n",
    "## compila el modelo para poder ejecutarlo\n",
    "##\n",
    "model.compile(optimizer=optimizer,      ## optimizador\n",
    "              loss='mse',               ## funcion a minimizar\n",
    "              metrics=['mse', 'mae'])   ## metricas de error reportadas\n",
    "\n",
    "##\n",
    "## entrena el modelo\n",
    "## \n",
    "h = model.fit(x, d,           ## patrones de entrenamiento\n",
    "              epochs=1500,    ## numero máximo de iteraciones\n",
    "              verbose=0)      ## sin reporte de la ejecución del optimizador\n",
    "\n",
    "##\n",
    "## grafica los datos reales y la regresión\n",
    "##\n",
    "plt.plot(x.flatten(), d.flatten(), 'o');\n",
    "x_pred = np.linspace(start=-8, stop=8, num=30)\n",
    "y_pred = model.predict(x_pred)\n",
    "plt.plot(x_pred, y_pred)\n",
    "\n",
    "##\n",
    "## grafica la evolución del error durante\n",
    "## la optimizacion\n",
    "##\n",
    "plt.figure()\n",
    "plt.plot(h.epoch, np.array(h.history['loss']));"
   ]
  },
  {
   "cell_type": "markdown",
   "metadata": {},
   "source": [
    "Regresion No Lineal usando un Perceptrón Continuo\n",
    "===\n",
    "\n",
    "**Juan David Velásquez Henao**  \n",
    "jdvelasq@unal.edu.co   \n",
    "Universidad Nacional de Colombia, Sede Medellín  \n",
    "Facultad de Minas  \n",
    "Medellín, Colombia\n",
    "\n",
    "---\n",
    "\n",
    "Haga click [aquí](https://github.com/jdvelasq/deep-neural-nets/tree/master/) para acceder al repositorio online.\n",
    "\n",
    "Haga click [aquí](http://nbviewer.jupyter.org/github/jdvelasq/deep-neural-nets/tree/master/) para explorar el repositorio usando `nbviewer`. "
   ]
  }
 ],
 "metadata": {
  "kernelspec": {
   "display_name": "Python 3",
   "language": "python",
   "name": "python3"
  },
  "language_info": {
   "codemirror_mode": {
    "name": "ipython",
    "version": 3
   },
   "file_extension": ".py",
   "mimetype": "text/x-python",
   "name": "python",
   "nbconvert_exporter": "python",
   "pygments_lexer": "ipython3",
   "version": "3.6.5"
  }
 },
 "nbformat": 4,
 "nbformat_minor": 2
}
