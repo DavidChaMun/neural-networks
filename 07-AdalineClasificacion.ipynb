{
 "cells": [
  {
   "cell_type": "markdown",
   "metadata": {},
   "source": [
    "Clasificación\n",
    "===\n",
    "\n",
    "**Juan David Velásquez Henao**  \n",
    "jdvelasq@unal.edu.co   \n",
    "Universidad Nacional de Colombia, Sede Medellín  \n",
    "Facultad de Minas  \n",
    "Medellín, Colombia\n",
    "\n",
    "---\n",
    "\n",
    "Haga click [aquí](https://github.com/jdvelasq/deep-neural-nets/tree/master/) para acceder al repositorio online.\n",
    "\n",
    "Haga click [aquí](http://nbviewer.jupyter.org/github/jdvelasq/deep-neural-nets/tree/master/) para explorar el repositorio usando `nbviewer`. "
   ]
  },
  {
   "cell_type": "markdown",
   "metadata": {},
   "source": [
    "---"
   ]
  },
  {
   "cell_type": "markdown",
   "metadata": {},
   "source": [
    "# Definición del problema"
   ]
  },
  {
   "cell_type": "markdown",
   "metadata": {},
   "source": [
    "Se tiene una muestra de 15 ejemplos para los cuales se han medido sus características $x_1$ y $x_2$ y su respectiva clase.\n",
    "\n",
    "    #     x1      x2   Clase\n",
    "    ------------------------\n",
    "     1  10.67   14.70    A\n",
    "     2   9.74   13.79    A \n",
    "     3  10.23   14.30    A\n",
    "     4  11.17   15.53    A\n",
    "     5  10.41   15.08    A\n",
    "     6  10.87    6.81    B\n",
    "     7  11.95    6.05    B\n",
    "     8  12.77    7.97    B\n",
    "     9  14.42    9.25    B\n",
    "    10  13.25    8.03    B\n",
    "    11  13.27   13.92    C\n",
    "    12  14.40   16.58    C\n",
    "    13  14.50   17.39    C\n",
    "    14  14.20   16.70    C\n",
    "    15  14.62   17.22    C\n",
    "\n",
    "Se desea determinar a que clase pertenece un nuevo punto con $x_1$ = 10.18 y $x_2$ = 6.38."
   ]
  },
  {
   "cell_type": "markdown",
   "metadata": {},
   "source": [
    "# Metodología de Solución"
   ]
  },
  {
   "cell_type": "markdown",
   "metadata": {},
   "source": [
    "El problema de clasificación binaria (con clases $C_1$ y $C_2$ dicotómicas) se define de la siguiente manera:\n",
    "\n",
    "\n",
    "* Cada patrón de entrada tiene la forma $\\mathbf{x}=[+1,x_1,x_2,…,x_n ]$.\n",
    "\n",
    "\n",
    "* Los parámetros del ADALINE son $\\mathbf{w}=[w_0,w_1,…,w_n]$ tal que $y=\\varphi(\\mathbf{w}^T \\mathbf{x})$.\n",
    "\n",
    "\n",
    "* Se desea encontrar el vector $\\mathbf{w}$ tal que el ADALINE clasifique correctamente todos los patrones de entrenamiento.\n",
    "\n",
    "\n",
    "* El error del ADALINE con parámetros $\\mathbf{w}$, $E(\\mathbf{w})$, es la cantidad de patrones mal clasificados.\n",
    "\n",
    "\n",
    "![alt](images/AdalineClasificacion-01.png)\n"
   ]
  },
  {
   "cell_type": "markdown",
   "metadata": {},
   "source": [
    "**Frontera de Decisión.** Se obtiene al hacer cero la entrada al ADALINE:\n",
    "\n",
    "$$v=w_0+\\sum_{i=}^n w_i x_i =0 $$\n",
    "\n",
    "* La frontera de decisión es ortogonal al vector de pesos.\n",
    "\n",
    "\n",
    "* Se puede suponer un vector direccional  y luego despejar el intercepto.\n",
    "\n",
    "\n",
    "* Para redes de neuronas ADALINE (MADALINE), cada neurona de salida tiene su propia frontera de decisión.\n",
    "\n",
    "A continuación se presenta la frontera de decisión generada por un ADALINE para la función lógica AND:\n",
    "\n",
    "![alt](images/AdalineClasificacion-02.png)"
   ]
  },
  {
   "cell_type": "markdown",
   "metadata": {},
   "source": [
    "### Solución al problema propuesto"
   ]
  },
  {
   "cell_type": "markdown",
   "metadata": {},
   "source": [
    "#### Aproximación 1\n",
    "\n",
    "En esta aproximación se usaran tres ADALINE; el primero indica si un patrón pertence a la clase A o no; el segundo si el patrón pertence a la clase B, y el tercero si pertenece a la clase C."
   ]
  },
  {
   "cell_type": "code",
   "execution_count": 5,
   "metadata": {},
   "outputs": [],
   "source": [
    "## \n",
    "## El primer paso consiste implementar una función que \n",
    "## retorne un vector con los pesos óptimos del ADALINE\n",
    "##\n",
    "import numpy as np\n",
    "\n",
    "def adaline(x, d, mu=0.0001, niter=15000):\n",
    "    \n",
    "    w = np.zeros((1 + len(x[0]), 1))\n",
    "    ones = np.full((len(d), 1), 1)\n",
    "    x = np.hstack((ones, x))\n",
    "    d = d.reshape(len(d), 1)\n",
    "    history = []\n",
    "    for iter in range(niter):\n",
    "        y = x @ w\n",
    "        e = d - y\n",
    "        ## np.sum(e*x, axis=0)) es un vector fila\n",
    "        delta_w = (2 * mu * np.sum(e*x, axis=0)).reshape(len(w), 1) \n",
    "        w = w + delta_w\n",
    "        history.append(sum([a**2 for a in e]))\n",
    "    return w, history\n",
    "    "
   ]
  },
  {
   "cell_type": "code",
   "execution_count": 6,
   "metadata": {
    "scrolled": false
   },
   "outputs": [
    {
     "data": {
      "text/plain": [
       "(0, 15)"
      ]
     },
     "execution_count": 6,
     "metadata": {},
     "output_type": "execute_result"
    },
    {
     "data": {
      "image/png": "[encoded data removed]",
      "text/plain": [
       "<Figure size 432x288 with 1 Axes>"
      ]
     },
     "metadata": {},
     "output_type": "display_data"
    }
   ],
   "source": [
    "import matplotlib.pyplot as plt\n",
    "%matplotlib inline\n",
    "\n",
    "##\n",
    "## Datos originales\n",
    "##\n",
    "x = np.array([[10.67, 14.70],\n",
    "              [ 9.74, 13.79],\n",
    "              [10.23, 14.30],\n",
    "              [11.17, 15.53],\n",
    "              [10.41, 15.08],\n",
    "              [10.87,  6.81],\n",
    "              [11.95,  6.05],\n",
    "              [12.77,  7.97],\n",
    "              [14.42,  9.25],\n",
    "              [13.25,  8.03],\n",
    "              [13.27, 13.92],\n",
    "              [14.40, 16.58],\n",
    "              [14.50, 17.39],\n",
    "              [14.20, 16.70],\n",
    "              [14.62, 17.22]])\n",
    "\n",
    "\n",
    "d = np.array([0, 0, 0, 0, 0, 1, 1, 1, 1, 1, 2, 2, 2, 2, 2])\n",
    "\n",
    "\n",
    "##\n",
    "## Solución \n",
    "## Se codifica un vector para cada clase\n",
    "##\n",
    "\n",
    "A = np.array([+1 if x == 0 else -1 for x in d])\n",
    "B = np.array([+1 if x == 1 else -1 for x in d])\n",
    "C = np.array([+1 if x == 2 else -1 for x in d])\n",
    "\n",
    "wA, historyA = adaline(x, A, mu=0.0002, niter=15000)\n",
    "wB, historyB = adaline(x, B, mu=0.0001, niter=15000)\n",
    "wC, historyC = adaline(x, C, mu=0.0002, niter=25000)\n",
    "\n",
    "plt.plot(historyA)\n",
    "plt.plot(historyB)\n",
    "plt.plot(historyC);\n",
    "plt.legend(['A', 'B', 'C']);\n",
    "plt.xlim(0, 25000)\n",
    "plt.ylim(0, 15)"
   ]
  },
  {
   "cell_type": "code",
   "execution_count": 129,
   "metadata": {},
   "outputs": [
    {
     "data": {
      "image/png": "[encoded data removed]",
      "text/plain": [
       "<Figure size 432x288 with 1 Axes>"
      ]
     },
     "metadata": {},
     "output_type": "display_data"
    }
   ],
   "source": [
    "Ax = [e[0]  for (e, y) in zip(x, d) if y == 0]\n",
    "Ay = [e[1]  for (e, y) in zip(x, d) if y == 0]\n",
    "\n",
    "Bx = [e[0]  for (e, y) in zip(x, d) if y == 1]\n",
    "By = [e[1]  for (e, y) in zip(x, d) if y == 1]\n",
    "\n",
    "Cx = [e[0]  for (e, y) in zip(x, d) if y == 2]\n",
    "Cy = [e[1]  for (e, y) in zip(x, d) if y == 2]\n",
    "\n",
    "plt.plot(Ax, Ay, 'ro')\n",
    "plt.plot(Bx, By, 'bo')\n",
    "plt.plot(Cx, Cy, 'go')\n",
    "plt.xlim(9, 15)\n",
    "plt.ylim(5, 18)\n",
    "\n",
    "xplot = np.linspace(start=9, stop=15, num=20)\n",
    "frontera_A = - wA[0] / wA[2] - wA[1] / wA[2] * xplot\n",
    "frontera_B = - wB[0] / wB[2] - wB[1] / wB[2] * xplot\n",
    "frontera_C = - wC[0] / wC[2] - wC[1] / wC[2] * xplot\n",
    "\n",
    "plt.plot(xplot, frontera_A, color='red')\n",
    "plt.plot(xplot, frontera_B, color='blue')\n",
    "plt.plot(xplot, frontera_C, color='green');\n"
   ]
  },
  {
   "cell_type": "markdown",
   "metadata": {},
   "source": [
    "### Aproximación 2\n",
    "\n",
    "En este caso también se usan tres ADALINE. La primera determina si el punto pertence a la clase A o al resto. La segunda ADALINE decide si el punto pertence a la clase B o a la clase C."
   ]
  },
  {
   "cell_type": "code",
   "execution_count": 132,
   "metadata": {},
   "outputs": [
    {
     "data": {
      "image/png": "[encoded data removed]",
      "text/plain": [
       "<Figure size 432x288 with 1 Axes>"
      ]
     },
     "metadata": {},
     "output_type": "display_data"
    }
   ],
   "source": [
    "wA, historyA = adaline(x, A, mu=0.0002, niter=15000)\n",
    "wB, historyB = adaline(x[5:15,:], B[5:15], mu=0.0001, niter=15000)\n",
    "\n",
    "plt.plot(Ax, Ay, 'ro')\n",
    "plt.plot(Bx, By, 'bo')\n",
    "plt.plot(Cx, Cy, 'go')\n",
    "plt.xlim(9, 15)\n",
    "plt.ylim(5, 18)\n",
    "\n",
    "xplot = np.linspace(start=9, stop=15, num=20)\n",
    "frontera_A = - wA[0] / wA[2] - wA[1] / wA[2] * xplot\n",
    "frontera_B = - wB[0] / wB[2] - wB[1] / wB[2] * xplot\n",
    "\n",
    "plt.plot(xplot, frontera_A, color='red')\n",
    "plt.plot(xplot, frontera_B, color='blue');\n"
   ]
  },
  {
   "cell_type": "markdown",
   "metadata": {},
   "source": [
    "---\n",
    "**Ejercicio.--** Implemente este modelo como una clase usando `numpy`. La implementación usa la regla delta como algoritmo de aprendizaje."
   ]
  },
  {
   "cell_type": "code",
   "execution_count": 142,
   "metadata": {},
   "outputs": [
    {
     "name": "stdout",
     "output_type": "stream",
     "text": [
      "\u001b[H\u001b[2J**********************************************************************\n",
      "File \"__main__\", line 29, in __main__.Adaline.predict\n",
      "Failed example:\n",
      "    m.predict(x)\n",
      "Expected:\n",
      "    [ 1, 1, 1, 1, 1, -1, -1, -1, -1, -1, -1, -1, -1, -1, -1]\n",
      "Got nothing\n",
      "**********************************************************************\n",
      "1 items had failures:\n",
      "   1 of   6 in __main__.Adaline.predict\n",
      "***Test Failed*** 1 failures.\n"
     ]
    }
   ],
   "source": [
    "%clear\n",
    "class Adaline:\n",
    "    def __init__(self, n):\n",
    "        \"\"\"\n",
    "        n es el numero de entradas a la red \n",
    "        \"\"\"\n",
    "        pass\n",
    "    \n",
    "    def fit(self, x, y, mu=0.01, iter=10):\n",
    "        \"\"\"\n",
    "        x son las entradas, y es la salida esperada\n",
    "        \"\"\"\n",
    "        pass\n",
    "        \n",
    "    def predict(self, x):\n",
    "        \"\"\"\n",
    "        Pronostica la salida para una lista de entradas.\n",
    "        \n",
    "        >>> x = np.array([[10.67, 14.70],\n",
    "        ...               [ 9.74, 13.79],\n",
    "        ...               [10.23, 14.30],\n",
    "        ...               [11.17, 15.53],\n",
    "        ...               [10.41, 15.08],\n",
    "        ...               [10.87,  6.81],\n",
    "        ...               [11.95,  6.05],\n",
    "        ...               [12.77,  7.97],\n",
    "        ...               [14.42,  9.25],\n",
    "        ...               [13.25,  8.03],\n",
    "        ...               [13.27, 13.92],\n",
    "        ...               [14.40, 16.58],\n",
    "        ...               [14.50, 17.39],\n",
    "        ...               [14.20, 16.70],\n",
    "        ...               [14.62, 17.22]])\n",
    "        >>> d = np.array([0, 0, 0, 0, 0, 1, 1, 1, 1, 1, 2, 2, 2, 2, 2])\n",
    "        >>> y = np.array([+1 if x == 0 else -1 for x in d])\n",
    "        >>> m = Adaline(2)\n",
    "        >>> m.fit(x, y)\n",
    "        >>> m.predict(x)\n",
    "        [ 1, 1, 1, 1, 1, -1, -1, -1, -1, -1, -1, -1, -1, -1, -1]\n",
    "       \n",
    "        \"\"\"\n",
    "        pass\n",
    "    \n",
    "if __name__ == \"__main__\":\n",
    "    import doctest\n",
    "    doctest.testmod()"
   ]
  },
  {
   "cell_type": "markdown",
   "metadata": {},
   "source": [
    "---\n",
    "**Ejercicio.--** Realice la misma implementación del ejercicio anterior usando `TensorFlow`.\n",
    "\n",
    "---"
   ]
  },
  {
   "cell_type": "markdown",
   "metadata": {},
   "source": [
    "Clasificación\n",
    "===\n",
    "\n",
    "**Juan David Velásquez Henao**  \n",
    "jdvelasq@unal.edu.co   \n",
    "Universidad Nacional de Colombia, Sede Medellín  \n",
    "Facultad de Minas  \n",
    "Medellín, Colombia\n",
    "\n",
    "---\n",
    "\n",
    "Haga click [aquí](https://github.com/jdvelasq/deep-neural-nets/tree/master/) para acceder al repositorio online.\n",
    "\n",
    "Haga click [aquí](http://nbviewer.jupyter.org/github/jdvelasq/deep-neural-nets/tree/master/) para explorar el repositorio usando `nbviewer`. "
   ]
  }
 ],
 "metadata": {
  "kernelspec": {
   "display_name": "Python 3",
   "language": "python",
   "name": "python3"
  },
  "language_info": {
   "codemirror_mode": {
    "name": "ipython",
    "version": 3
   },
   "file_extension": ".py",
   "mimetype": "text/x-python",
   "name": "python",
   "nbconvert_exporter": "python",
   "pygments_lexer": "ipython3",
   "version": "3.6.5"
  }
 },
 "nbformat": 4,
 "nbformat_minor": 2
}
